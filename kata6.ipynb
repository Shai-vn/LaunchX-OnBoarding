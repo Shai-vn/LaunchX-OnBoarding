{
 "cells": [
  {
   "cell_type": "markdown",
   "metadata": {},
   "source": [
    "# Ejercicio 1. Crear y usar listas de Python"
   ]
  },
  {
   "cell_type": "code",
   "execution_count": 5,
   "metadata": {},
   "outputs": [
    {
     "name": "stdout",
     "output_type": "stream",
     "text": [
      "['Mercurio', 'Venus', 'Tierra', 'Marte', 'Jupiter', 'Saturno', 'Urano', 'Neptuno']\n",
      "Número de planetas: 8\n",
      "['Mercurio', 'Venus', 'Tierra', 'Marte', 'Jupiter', 'Saturno', 'Urano', 'Neptuno', 'Plutón']\n",
      "Número de planetas: 9\n"
     ]
    }
   ],
   "source": [
    "planets = ['Mercurio','Venus', 'Tierra','Marte','Jupiter','Saturno', 'Urano', 'Neptuno']\n",
    "print(planets)\n",
    "print('Número de planetas:', len(planets))\n",
    "planets.append('Plutón')\n",
    "print(planets)\n",
    "print('Número de planetas:', len(planets))"
   ]
  },
  {
   "cell_type": "markdown",
   "metadata": {},
   "source": [
    "# Ejercicio 2. Trbajanco con datos de una lista\n"
   ]
  },
  {
   "cell_type": "code",
   "execution_count": 11,
   "metadata": {},
   "outputs": [
    {
     "name": "stdout",
     "output_type": "stream",
     "text": [
      "Los planetas más cercanos al sol que Pluton:\n",
      "['Mercurio', 'Venus', 'Tierra', 'Marte', 'Jupiter', 'Saturno', 'Urano', 'Neptuno']\n",
      "Planetas más lejanos al sol que Pluton:\n",
      "[]\n"
     ]
    }
   ],
   "source": [
    "# Lista de planetas\n",
    "planets2 = ['Mercurio','Venus', 'Tierra','Marte','Jupiter','Saturno', 'Urano', 'Neptuno']\n",
    "# Agregar planeta\n",
    "add_planet = input('Ingrese el nombre del planeta con la primera letra mayúscula:')\n",
    "planets2.append(add_planet)\n",
    "\n",
    "#Buscar el planeta en la lista\n",
    "planet_index = planets2.index(add_planet)\n",
    "\n",
    "#muestra planetas más cercanos al sol\n",
    "print('Los planetas más cercanos al sol que ' + add_planet + ':')\n",
    "print(planets2[0:planet_index])\n",
    "\n",
    "#Muestra los planetas más lejanos al sol\n",
    "print('Planetas más lejanos al sol que ' + add_planet + ':')\n",
    "print(planets2[planet_index + 1:])\n"
   ]
  }
 ],
 "metadata": {
  "interpreter": {
   "hash": "4c3f0ba468d43079d0f4e353d92746bab070739d0da8487d8f3b92b9646e8597"
  },
  "kernelspec": {
   "display_name": "Python 3.9.1 64-bit",
   "language": "python",
   "name": "python3"
  },
  "language_info": {
   "codemirror_mode": {
    "name": "ipython",
    "version": 3
   },
   "file_extension": ".py",
   "mimetype": "text/x-python",
   "name": "python",
   "nbconvert_exporter": "python",
   "pygments_lexer": "ipython3",
   "version": "3.9.1"
  },
  "orig_nbformat": 4
 },
 "nbformat": 4,
 "nbformat_minor": 2
}
