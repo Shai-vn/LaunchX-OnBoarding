{
 "cells": [
  {
   "cell_type": "markdown",
   "metadata": {},
   "source": [
    "# Ejercicio 1. Utilizar operadores aritméticos"
   ]
  },
  {
   "cell_type": "code",
   "execution_count": 4,
   "metadata": {},
   "outputs": [
    {
     "name": "stdout",
     "output_type": "stream",
     "text": [
      "628949330\n",
      "390577533.93\n"
     ]
    }
   ],
   "source": [
    "tierra = 149597870 \n",
    "jupiter = 778547200 \n",
    "\n",
    "distancia_km = jupiter-tierra\n",
    "print(distancia_km)\n",
    "\n",
    "distancia_mi = distancia_km * 0.621\n",
    "print(distancia_mi)"
   ]
  },
  {
   "cell_type": "markdown",
   "metadata": {},
   "source": [
    "# Ejercicio 2: Convierte cadenas en números y usa valores absolutos"
   ]
  },
  {
   "cell_type": "code",
   "execution_count": 5,
   "metadata": {},
   "outputs": [
    {
     "name": "stdout",
     "output_type": "stream",
     "text": [
      "50300000\n",
      "31236300.0\n"
     ]
    }
   ],
   "source": [
    "first_planet = input('Introduzca la distancia desde el sol hasta el primer planeta en km:')\n",
    "second_planet = input('Introduzca la distancia desde el sol hasta el segundo planeta en km:')\n",
    "\n",
    "#convertir a entero las distancias\n",
    "first_planet = int(first_planet)\n",
    "second_planet = int(second_planet)\n",
    "\n",
    "distance_km = second_planet - first_planet\n",
    "distance_km = abs(distance_km)\n",
    "print(distance_km)\n",
    "\n",
    "distance_mi = distance_km *0.621\n",
    "distance_mi = abs(distance_mi)\n",
    "print(distance_mi)"
   ]
  }
 ],
 "metadata": {
  "interpreter": {
   "hash": "4c3f0ba468d43079d0f4e353d92746bab070739d0da8487d8f3b92b9646e8597"
  },
  "kernelspec": {
   "display_name": "Python 3.9.1 64-bit",
   "language": "python",
   "name": "python3"
  },
  "language_info": {
   "codemirror_mode": {
    "name": "ipython",
    "version": 3
   },
   "file_extension": ".py",
   "mimetype": "text/x-python",
   "name": "python",
   "nbconvert_exporter": "python",
   "pygments_lexer": "ipython3",
   "version": "3.9.1"
  },
  "orig_nbformat": 4
 },
 "nbformat": 4,
 "nbformat_minor": 2
}
