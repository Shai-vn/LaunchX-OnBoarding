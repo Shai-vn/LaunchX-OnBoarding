{
 "cells": [
  {
   "cell_type": "markdown",
   "metadata": {},
   "source": [
    "# Ejercicio 1. Creación de diccionarios en Python"
   ]
  },
  {
   "cell_type": "code",
   "execution_count": 3,
   "metadata": {},
   "outputs": [
    {
     "name": "stdout",
     "output_type": "stream",
     "text": [
      "Mars has 2 moons\n"
     ]
    }
   ],
   "source": [
    "# diccionario para Marte e imprimir planetas\n",
    "planet = {\n",
    "    'name': 'Mars',\n",
    "    'moons': 2\n",
    "}\n",
    "print(f'{planet[\"name\"]} has {planet[\"moons\"]} moons')"
   ]
  },
  {
   "cell_type": "code",
   "execution_count": 7,
   "metadata": {},
   "outputs": [
    {
     "name": "stdout",
     "output_type": "stream",
     "text": [
      "Mars has a 6752 km of polar circumference\n"
     ]
    }
   ],
   "source": [
    "# Agrega clave circunferencia con los datos\n",
    "planet['Circunferencia (km)'] = {\n",
    "    'polar': 6752,\n",
    "    'equatorial':6792\n",
    "}\n",
    "\n",
    "#imprimir el nombre del planeta con su circunferencia polar\n",
    "print(f'{planet[\"name\"]} has a {planet[\"Circunferencia (km)\"][\"polar\"]} km of polar circumference')"
   ]
  },
  {
   "cell_type": "markdown",
   "metadata": {},
   "source": [
    "# Ejercicio 2. Programación dinámica con diccionarios\n"
   ]
  },
  {
   "cell_type": "code",
   "execution_count": 9,
   "metadata": {},
   "outputs": [
    {
     "name": "stdout",
     "output_type": "stream",
     "text": [
      "Hay 214 lunas\n",
      "El promedio de lunas es de: 17.833333333333332\n"
     ]
    }
   ],
   "source": [
    "# planets and moons\n",
    "planet_moons = {\n",
    "    'Mercury': 0,\n",
    "    'Venus': 0,\n",
    "    'Earth': 1,\n",
    "    'Mars':2,\n",
    "    'Jupiter': 79,\n",
    "    'Saturn': 82,\n",
    "    'Uranus': 27,\n",
    "    'Neptune': 14,\n",
    "    'Pluto': 5,\n",
    "    'Haumea': 2,\n",
    "    'Makemake': 1,\n",
    "    'Eris': 1\n",
    "}\n",
    "\n",
    "total_moons = 0\n",
    "planets = len(planet_moons.keys())\n",
    "\n",
    "for value in planet_moons.values():\n",
    "    total_moons = total_moons + value\n",
    "\n",
    "\n",
    "\n",
    "print(f'Hay {total_moons} lunas')\n",
    "\n",
    "#calcular promedio de linas\n",
    "prom = total_moons/planets\n",
    "print(f'El promedio de lunas es de: {prom}')"
   ]
  }
 ],
 "metadata": {
  "interpreter": {
   "hash": "4c3f0ba468d43079d0f4e353d92746bab070739d0da8487d8f3b92b9646e8597"
  },
  "kernelspec": {
   "display_name": "Python 3.9.1 64-bit",
   "language": "python",
   "name": "python3"
  },
  "language_info": {
   "codemirror_mode": {
    "name": "ipython",
    "version": 3
   },
   "file_extension": ".py",
   "mimetype": "text/x-python",
   "name": "python",
   "nbconvert_exporter": "python",
   "pygments_lexer": "ipython3",
   "version": "3.9.1"
  },
  "orig_nbformat": 4
 },
 "nbformat": 4,
 "nbformat_minor": 2
}
