{
 "cells": [
  {
   "cell_type": "markdown",
   "metadata": {},
   "source": [
    "# Ejercicio : Uso de funciones en Python\n",
    "\n",
    "# Ejercicio 1. Trabajar con argumentos en funciones"
   ]
  },
  {
   "cell_type": "code",
   "execution_count": 2,
   "metadata": {},
   "outputs": [
    {
     "name": "stdout",
     "output_type": "stream",
     "text": [
      " Report:\n",
      "    -> Promedio de tanques: 78.33333333333333%\n",
      "    -> Tanque 1: 80%\n",
      "    -> Tanque 2: 70%\n",
      "    -> Tanque 3: 85%\n"
     ]
    }
   ],
   "source": [
    "# Función para leer 3 tanques de combustible y muestre el promedio\n",
    "\n",
    "def prom_tanques(tanque1, tanque2, tanque3):\n",
    "    prom = (tanque1+tanque2+tanque3)/3\n",
    "\n",
    "    return f\"\"\" Report:\n",
    "    -> Promedio de tanques: {prom}%\n",
    "    -> Tanque 1: {tanque1}%\n",
    "    -> Tanque 2: {tanque2}%\n",
    "    -> Tanque 3: {tanque3}%\"\"\"\n",
    "\n",
    "#llamado de la función\n",
    "print(prom_tanques(80,70,85))"
   ]
  },
  {
   "cell_type": "code",
   "execution_count": 3,
   "metadata": {},
   "outputs": [
    {
     "name": "stdout",
     "output_type": "stream",
     "text": [
      " Report:\n",
      "    -> Promedio de tanques: 78.33333333333333%\n",
      "    -> Tanque 1: 80%\n",
      "    -> Tanque 2: 70%\n",
      "    -> Tanque 3: 85%\n"
     ]
    }
   ],
   "source": [
    "#Función promedio\n",
    "\n",
    "def promedio(values):\n",
    "    total = sum(values)\n",
    "    number_of_items = len(values)\n",
    "    return total/number_of_items\n",
    "\n",
    "#actualizamos la función\n",
    "def prom_tanques(tanque1, tanque2, tanque3):\n",
    "   \n",
    "\n",
    "    return f\"\"\" Report:\n",
    "    -> Promedio de tanques: {promedio([tanque1,tanque2,tanque3])}%\n",
    "    -> Tanque 1: {tanque1}%\n",
    "    -> Tanque 2: {tanque2}%\n",
    "    -> Tanque 3: {tanque3}%\"\"\"\n",
    "\n",
    "#llamado de la función\n",
    "print(prom_tanques(80,70,85))"
   ]
  },
  {
   "cell_type": "markdown",
   "metadata": {},
   "source": [
    "# Ejercicio 2. Trabajo con argumentos de palabras clave en funciones"
   ]
  },
  {
   "cell_type": "code",
   "execution_count": 4,
   "metadata": {},
   "outputs": [
    {
     "name": "stdout",
     "output_type": "stream",
     "text": [
      "\n",
      "    Mision to: Moon\n",
      "    Total travel time: 65 minutes\n",
      "    Total fuel left: 500000 gallons\n",
      "    \n"
     ]
    }
   ],
   "source": [
    "def mission_report(hora_desplazamiento, tiempo_vuelo, destino, tanque_externo, tanque_principal):\n",
    "    return f\"\"\"\n",
    "    Mision to: {destino}\n",
    "    Total travel time: {hora_desplazamiento + tiempo_vuelo} minutes\n",
    "    Total fuel left: {tanque_externo + tanque_principal} gallons\n",
    "    \"\"\"\n",
    "\n",
    "print(mission_report(14,51,\"Moon\",200000,300000))"
   ]
  },
  {
   "cell_type": "code",
   "execution_count": 9,
   "metadata": {},
   "outputs": [
    {
     "name": "stdout",
     "output_type": "stream",
     "text": [
      "\n",
      "    Mision to: Moon\n",
      "    Total travel time: 76 minutes\n",
      "    Total fuel left: 500000 gallons\n",
      "    \n"
     ]
    }
   ],
   "source": [
    "# nueva funcion\n",
    "def mission_report(destino, *minutes,**fuel_reservoirs):\n",
    "    return f\"\"\"\n",
    "    Mision to: {destino}\n",
    "    Total travel time: {sum(minutes)} minutes\n",
    "    Total fuel left: {sum(fuel_reservoirs.values())} gallons\n",
    "    \"\"\"\n",
    "\n",
    "print(mission_report(\"Moon\",10,15,51, main=300000, external = 200000))"
   ]
  },
  {
   "cell_type": "code",
   "execution_count": 11,
   "metadata": {},
   "outputs": [
    {
     "name": "stdout",
     "output_type": "stream",
     "text": [
      "\n",
      "    Mision to: Moon\n",
      "    Total travel time: 76 minutes\n",
      "    Total fuel left: 500000 gallons\n",
      "    main tank --> 300000 gallons left\n",
      "external tank --> 200000 gallons left\n",
      "\n"
     ]
    }
   ],
   "source": [
    "# nueva función que imprime especificamente cada tanque\n",
    "def mission_report(destino, *minutes,**fuel_reservoirs):\n",
    "    main_report = f\"\"\"\n",
    "    Mision to: {destino}\n",
    "    Total travel time: {sum(minutes)} minutes\n",
    "    Total fuel left: {sum(fuel_reservoirs.values())} gallons\n",
    "    \"\"\"\n",
    "    for tank_name, gallons in fuel_reservoirs.items():\n",
    "        main_report += f\"{tank_name} tank --> {gallons} gallons left\\n\"\n",
    "    return main_report\n",
    "\n",
    "print(mission_report(\"Moon\",10,15,51, main=300000, external = 200000))\n"
   ]
  }
 ],
 "metadata": {
  "interpreter": {
   "hash": "4c3f0ba468d43079d0f4e353d92746bab070739d0da8487d8f3b92b9646e8597"
  },
  "kernelspec": {
   "display_name": "Python 3.9.1 64-bit",
   "language": "python",
   "name": "python3"
  },
  "language_info": {
   "codemirror_mode": {
    "name": "ipython",
    "version": 3
   },
   "file_extension": ".py",
   "mimetype": "text/x-python",
   "name": "python",
   "nbconvert_exporter": "python",
   "pygments_lexer": "ipython3",
   "version": "3.9.1"
  },
  "orig_nbformat": 4
 },
 "nbformat": 4,
 "nbformat_minor": 2
}
