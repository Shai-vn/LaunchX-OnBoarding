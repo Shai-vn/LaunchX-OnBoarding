{
 "cells": [
  {
   "cell_type": "markdown",
   "metadata": {},
   "source": [
    "# Problema 1:\n",
    " Añadir el código necesario para crear una variable que guarde la velocidad del asteroide.\n",
    " Escribe una expresión de prueba para calcular si necesita una advertencia.\n",
    " Agregue las instrucciones que se ejecutarán si la expresión de prueba es true o false."
   ]
  },
  {
   "cell_type": "code",
   "execution_count": 5,
   "metadata": {},
   "outputs": [
    {
     "name": "stdout",
     "output_type": "stream",
     "text": [
      "¡Alerta! ¡Se dirige un asteroide con velodidad de : 49km/s!\n"
     ]
    }
   ],
   "source": [
    "asteroide_vel = 49\n",
    "if asteroide_vel > 25:\n",
    "    print(\"¡Alerta! ¡Se dirige un asteroide con velodidad de : \" + str(asteroide_vel) + \"km/s!\")\n",
    "else:\n",
    "    print(\"¡No se ha detectado asteroídes!\")"
   ]
  },
  {
   "cell_type": "markdown",
   "metadata": {},
   "source": [
    "# Problema 2:\n",
    " Agrega el código para crear una variable para un asteroide que viaja a 19 km/s\n",
    " Escribe varias expresiones de prueba para determinar si puedes ver el rayo de luz desde la tierra\n",
    " Agrega las instrucciones que se ejecutarán si las expresiones de prueba son True o False"
   ]
  },
  {
   "cell_type": "code",
   "execution_count": 6,
   "metadata": {},
   "outputs": [
    {
     "name": "stdout",
     "output_type": "stream",
     "text": [
      "¡No hay luz que ver en el cielo!\n"
     ]
    }
   ],
   "source": [
    "asteroide_vel = 19\n",
    "\n",
    "if asteroide_vel >= 20:\n",
    "    print(\"¡Miren al cielo! ¡Hay un rayo de luz!\")\n",
    "else:\n",
    "    print(\"¡No hay luz que ver en el cielo!\")"
   ]
  },
  {
   "cell_type": "markdown",
   "metadata": {},
   "source": [
    "# Problema 3:\n",
    "Agrega el código para crear nuevas variables para la velocidad y el tamaño del asteroide\n",
    "Para probar el código, prueba con varias velocidades y tamaños\n",
    "Escribe varias expresiones de prueba o combinaciones de expresiones de prueba para determinar qué mensaje se debe enviar"
   ]
  },
  {
   "cell_type": "code",
   "execution_count": 10,
   "metadata": {},
   "outputs": [
    {
     "name": "stdout",
     "output_type": "stream",
     "text": [
      "¡Cuidado! ¡Un asteroide golpeará la Tierra!\n"
     ]
    }
   ],
   "source": [
    "asteroide_vel = 25\n",
    "asteroide_tam = 40\n",
    "\n",
    "if asteroide_tam > 25 and asteroide_tam < 1000:\n",
    "    print(\"¡Cuidado! ¡Un asteroide golpeará la Tierra!\" )\n",
    "elif asteroide_vel >= 20:\n",
    "    print(\"¡Se ha producido una rayo de luz!\")\n",
    "elif asteroide_tam < 25 and asteroide_vel < 25:\n",
    "    print(\"El asteroide se ha quemado!\")\n"
   ]
  }
 ],
 "metadata": {
  "interpreter": {
   "hash": "4c3f0ba468d43079d0f4e353d92746bab070739d0da8487d8f3b92b9646e8597"
  },
  "kernelspec": {
   "display_name": "Python 3.9.1 64-bit",
   "language": "python",
   "name": "python3"
  },
  "language_info": {
   "codemirror_mode": {
    "name": "ipython",
    "version": 3
   },
   "file_extension": ".py",
   "mimetype": "text/x-python",
   "name": "python",
   "nbconvert_exporter": "python",
   "pygments_lexer": "ipython3",
   "version": "3.9.1"
  },
  "orig_nbformat": 4
 },
 "nbformat": 4,
 "nbformat_minor": 2
}
